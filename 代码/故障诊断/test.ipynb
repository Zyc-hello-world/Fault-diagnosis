{
 "cells": [
  {
   "cell_type": "code",
   "execution_count": 16,
   "metadata": {},
   "outputs": [
    {
     "data": {
      "text/plain": [
       "array([[ 1,  2,  3,  1,  2,  3,  1,  2,  3,  1,  2,  3,  1,  2,  3],\n",
       "       [11, 22, 33, 11, 22, 33, 11, 22, 33, 11, 22, 33, 11, 22, 33]])"
      ]
     },
     "execution_count": 16,
     "metadata": {},
     "output_type": "execute_result"
    }
   ],
   "source": [
    "import numpy as np\n",
    "import matplotlib.pyplot as plt\n",
    "from mpl_toolkits.mplot3d import Axes3D\n",
    "\n",
    "a = np.array([[[1,2,3],\n",
    "               [1,2,3],\n",
    "               [1,2,3],\n",
    "               [1,2,3],\n",
    "               [1,2,3],],\n",
    "              [[11,22,33],\n",
    "               [11,22,33],\n",
    "               [11,22,33],\n",
    "               [11,22,33],\n",
    "               [11,22,33],]])\n",
    "# a = np.swapaxes(a, 1, 2)\n",
    "a = a.reshape(a.shape[0], -1)\n",
    "a"
   ]
  },
  {
   "cell_type": "code",
   "execution_count": 10,
   "metadata": {},
   "outputs": [
    {
     "data": {
      "text/plain": [
       "array([ 7, 13,  9])"
      ]
     },
     "execution_count": 10,
     "metadata": {},
     "output_type": "execute_result"
    }
   ],
   "source": [
    "import numpy as np\n",
    "nodes = 14\n",
    "select = 3\n",
    "a = np.random.permutation(nodes) + 1\n",
    "a\n",
    "a = a[:select]\n",
    "a"
   ]
  },
  {
   "cell_type": "markdown",
   "metadata": {},
   "source": [
    "1:0.73921\n",
    "2:0.743\n",
    "3:0.787\n",
    "4:"
   ]
  },
  {
   "cell_type": "markdown",
   "metadata": {},
   "source": []
  },
  {
   "cell_type": "code",
   "execution_count": 14,
   "metadata": {},
   "outputs": [
    {
     "name": "stdout",
     "output_type": "stream",
     "text": [
      "(6, 5)\n",
      "[[['a1']\n",
      "  ['a2']\n",
      "  ['a3']\n",
      "  ['a4']\n",
      "  ['a5']]\n",
      "\n",
      " [['b1']\n",
      "  ['b2']\n",
      "  ['b3']\n",
      "  ['b4']\n",
      "  ['b5']]\n",
      "\n",
      " [['c1']\n",
      "  ['c2']\n",
      "  ['c3']\n",
      "  ['c4']\n",
      "  ['c5']]\n",
      "\n",
      " [['A1']\n",
      "  ['A2']\n",
      "  ['A3']\n",
      "  ['A4']\n",
      "  ['A5']]\n",
      "\n",
      " [['B1']\n",
      "  ['B2']\n",
      "  ['B3']\n",
      "  ['B4']\n",
      "  ['B5']]\n",
      "\n",
      " [['C1']\n",
      "  ['C2']\n",
      "  ['C3']\n",
      "  ['C4']\n",
      "  ['C5']]]\n"
     ]
    },
    {
     "data": {
      "text/plain": [
       "array([['a1', 'a2', 'a3', 'a4', 'a5'],\n",
       "       ['b1', 'b2', 'b3', 'b4', 'b5'],\n",
       "       ['c1', 'c2', 'c3', 'c4', 'c5'],\n",
       "       ['A1', 'A2', 'A3', 'A4', 'A5'],\n",
       "       ['B1', 'B2', 'B3', 'B4', 'B5'],\n",
       "       ['C1', 'C2', 'C3', 'C4', 'C5']], dtype='<U2')"
      ]
     },
     "execution_count": 14,
     "metadata": {},
     "output_type": "execute_result"
    }
   ],
   "source": [
    "a = np.array([[\"a1\", \"a2\", \"a3\", \"a4\", \"a5\"], [\"b1\", \"b2\", \"b3\", \"b4\", \"b5\"], [\"c1\", \"c2\", \"c3\", \"c4\", \"c5\"],\n",
    "     [\"A1\", \"A2\", \"A3\", \"A4\", \"A5\"], [\"B1\", \"B2\", \"B3\", \"B4\", \"B5\"], [\"C1\", \"C2\", \"C3\", \"C4\", \"C5\"]])\n",
    "print(a.shape)\n",
    "a = a[:,:,np.newaxis]\n",
    "print(a)\n",
    "\n",
    "a = np.swapaxes(a, 1, 2)\n",
    "a = a.reshape(-1, 5)\n",
    "a"
   ]
  }
 ],
 "metadata": {
  "interpreter": {
   "hash": "e84d5f88b3484534a1e660b66643588a8a8a3e9884df1376bb98964b44b81089"
  },
  "kernelspec": {
   "display_name": "Python 3.6.3 64-bit (system)",
   "language": "python",
   "name": "python3"
  },
  "language_info": {
   "codemirror_mode": {
    "name": "ipython",
    "version": 3
   },
   "file_extension": ".py",
   "mimetype": "text/x-python",
   "name": "python",
   "nbconvert_exporter": "python",
   "pygments_lexer": "ipython3",
   "version": "3.6.3"
  },
  "orig_nbformat": 4
 },
 "nbformat": 4,
 "nbformat_minor": 2
}
