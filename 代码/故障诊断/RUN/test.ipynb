{
 "cells": [
  {
   "cell_type": "code",
   "execution_count": 3,
   "metadata": {},
   "outputs": [],
   "source": [
    "import numpy as np\n"
   ]
  },
  {
   "cell_type": "code",
   "execution_count": 4,
   "metadata": {},
   "outputs": [],
   "source": [
    "a = np.array([[[1,2,3],[4,5,6]],[[7,8,9],[10,11,12]],\n",
    "              [[11,22,33],[44,55,66]],[[77,88,99],[110,111,112]]])"
   ]
  },
  {
   "cell_type": "code",
   "execution_count": 2,
   "metadata": {},
   "outputs": [
    {
     "name": "stdout",
     "output_type": "stream",
     "text": [
      "False\n"
     ]
    }
   ],
   "source": [
    "import os\n",
    "from pickle import FALSE\n",
    "import sys\n",
    "\n",
    "from numpy.lib.shape_base import hsplit\n",
    "\n",
    "BASE_DIR = os.path.dirname(os.path.dirname(os.path.abspath(__file__)))  # __file__获取执行文件相对路径，整行为取上一级的上一级目录\n",
    "sys.path.append(BASE_DIR)\n",
    "from typing import Counter\n",
    "from keras import layers, losses\n",
    "from keras import optimizers\n",
    "from keras.layers.convolutional import Conv1D\n",
    "from keras.optimizers import Adam\n",
    "from sklearn import preprocessing\n",
    "from sklearn.model_selection import KFold\n",
    "\n",
    "\n",
    "\n",
    "import numpy as np\n",
    "import matplotlib.pyplot as plt\n",
    "from sklearn import datasets\n",
    "from sklearn.manifold import TSNE\n",
    "\n",
    "\n",
    "\n",
    "import pandas as pd\n",
    "from sklearn.preprocessing import OneHotEncoder\n",
    "from sklearn.preprocessing import MinMaxScaler\n",
    "\n",
    "from keras.utils import plot_model\n",
    "import pydot\n",
    "\n",
    "from DataProcessing import Data_opt\n",
    "\n",
    "\n",
    "from sklearn.svm import SVC\n",
    "\n",
    "# 第一个电路的正则表达式为  \".*V\\((\\d+)\\)@*\"\n",
    "# 第二个电路的正则表达式为  \".*V\\(n\\d+\\)@*\"\n",
    "# 第三个电路的正则表达式为  \".*V\\((.*)\\)\\)@.*\" (V(OUT))@1    \n",
    "\n",
    "\n",
    "if __name__ == \"__main__\":\n",
    "\treference_index = 2\n",
    "\tis_norm = True\n",
    "\tprint(BASE_DIR)\n",
    "\tdata_info_dict = {\"data_folder\":[\"input/Sallen-Key/soft-fault50\", \n",
    "                                  \"input/Four-opamp/soft-fault50\", \n",
    "                        \t\t\t\"input/leapfrog_filter/soft-fault50/\", \n",
    "                           \"input/ellipitic_filter/soft-fault50\",\n",
    "                           \"input/KKCV-GA/caseII\",\n",
    "                           \"input/leapfrog_filter/hard_fault\"], \n",
    "\t\t\t\t\t\"nodes\" : [4, 8, 12, 14], \n",
    "\t\t\t\t\t\"faults\" : [13, 13, 23, 34], \n",
    "\t\t\t\t\t\"mento\" : [100, 200, 200, 200], \n",
    "\t\t\t\t\t\"features\": [400, 600, 600, 500],\n",
    "\t\t\t\t\t# 时间单位为s\n",
    "\t\t\t\t\t\"simulate_time\": [0.00008, 0.0003, 0.001, 0.005],\n",
    "     \t\t\t\t\"circuit_name\": [\"Sallen-Key\", \"Four-opamp\", \"leapfrog_filter\", \"ellipitic_filter\"],\n",
    "         \t\t\t\"out_node\": [[\"(V(4))\"], [\"V(8)\"], [\"V(12)\"], \n",
    "                         [\"V(2)\",\"V(10)\",\"V(14)\"],\n",
    "                         [\"V(2)\",\"V(3)\",\"V(4)\",\"V(5)\",\"V(9)\",\"V(11)\", \"V(12)\"],\n",
    "                         []]}\n",
    "\n",
    "\tdata_folder = data_info_dict[\"data_folder\"][reference_index]\n",
    "\tnodes = data_info_dict[\"nodes\"][reference_index]\n",
    "\tfaults = data_info_dict[\"faults\"][reference_index]\n",
    "\tmento = data_info_dict[\"mento\"][reference_index]\n",
    "\t# 采样点数\n",
    "\tfeatures = data_info_dict[\"features\"][reference_index]\n",
    "\tsimulate_time = data_info_dict[\"simulate_time\"][reference_index]\n",
    "\tcircuit_name = data_info_dict[\"circuit_name\"][reference_index]\n",
    "\tstps_name = data_info_dict[\"out_node\"][reference_index]\n",
    "\tprint(\"选择的测点为:{}\".format(stps_name))\n",
    "\tsave_file_name = \"+\".join(stps_name)\n",
    "\n",
    "\tchannels = len(stps_name)\n",
    "\n",
    "\t# 原始数据\n",
    "\tmydata = dataprocess(data_folder, nodes, faults, simulate_time, features, mento)\n",
    "\tmydata.get_data_from_folder()\n",
    "\tmydata.get_node_name()\n",
    "\n",
    "\tprint(\"所有节点的名字为\")\n",
    "\tprint(mydata.nodes_name)\n",
    "\n",
    "\tprint(\"所有故障的顺序为\")\n",
    "\tprint(mydata.fault_names)\n",
    "\t# ['C1_down', 'C1_up', 'C2_down', 'C2_up', 'normal', 'R2_down', 'R2_up', 'R3_down', 'R3_up', 'R4_down', 'R4_up', 'R5_down', 'R5_up']\n",
    "\traw_data_with_label = mydata.raw_data[[mydata.nodes_name2num_dict[i] for i in stps_name]]\n",
    "\traw_data = raw_data_with_label[:, :, :, :-1]\n",
    "\tstps_num = [mydata.nodes_name2num_dict[i] for i in stps_name]\n",
    "\n",
    "\tprint(stps_num)\n",
    "\tprint(\"源数据形状\")\n",
    "\tprint(raw_data_with_label.shape, raw_data.shape)\n",
    "\n",
    "\tx2, y2 = Data_opt.axis4_axis_2(raw_data_with_label, is_onehot=True)\n",
    "\tif is_norm:\n",
    "\t\tx2 = Data_opt.max_min_norm(x2)\n",
    "\tprint(\"二维数据的格式为：{}-{}\".format(x2.shape, y2.shape))\n",
    "\t\n",
    "\n",
    "\tprint(\"该模型的准确率为:{}\".format(test_acc))\n",
    "\t\n",
    "\t\n"
   ]
  },
  {
   "cell_type": "code",
   "execution_count": 7,
   "metadata": {},
   "outputs": [],
   "source": [
    "def change(a):\n",
    "    a[0][1] = 123\n",
    "\n",
    "change(b)"
   ]
  },
  {
   "cell_type": "code",
   "execution_count": 1,
   "metadata": {},
   "outputs": [
    {
     "data": {
      "text/plain": [
       "<Figure size 640x480 with 1 Axes>"
      ]
     },
     "metadata": {},
     "output_type": "display_data"
    }
   ],
   "source": [
    "import matplotlib.pyplot as plt\n",
    "x = [0, 1, 2, 3]\n",
    "y = [0, 25.60, 37.81, 41.76]\n",
    "\n",
    "plt.scatter(x, y)\n",
    "plt.legend(\"Pareto Front\", loc=\"best\")\n",
    "plt.xlabel(\"V1\")\n",
    "plt.ylabel(\"V2\")\n",
    "plt.show()"
   ]
  },
  {
   "cell_type": "code",
   "execution_count": 6,
   "metadata": {},
   "outputs": [
    {
     "name": "stdout",
     "output_type": "stream",
     "text": [
      "[[5 4]\n",
      " [7 8]\n",
      " [8 1]\n",
      " [1 6]\n",
      " [5 8]\n",
      " [1 4]\n",
      " [3 7]]\n"
     ]
    }
   ],
   "source": [
    "import numpy as np\n",
    "maxiter = 7\n",
    "len = 8\n",
    "res = []\n",
    "for i in range(1, len+1):\n",
    "    for j in range(1, len+1):\n",
    "        if j != i:\n",
    "            res.append([i,j])\n",
    "a = np.random.permutation(res)[:maxiter]\n",
    "print(a)\n"
   ]
  }
 ],
 "metadata": {
  "interpreter": {
   "hash": "e84d5f88b3484534a1e660b66643588a8a8a3e9884df1376bb98964b44b81089"
  },
  "kernelspec": {
   "display_name": "Python 3.6.3 64-bit (system)",
   "name": "python3"
  },
  "language_info": {
   "codemirror_mode": {
    "name": "ipython",
    "version": 3
   },
   "file_extension": ".py",
   "mimetype": "text/x-python",
   "name": "python",
   "nbconvert_exporter": "python",
   "pygments_lexer": "ipython3",
   "version": "3.6.3"
  }
 },
 "nbformat": 4,
 "nbformat_minor": 2
}
